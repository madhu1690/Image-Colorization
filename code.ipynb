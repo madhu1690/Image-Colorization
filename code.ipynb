{
 "cells": [
  {
   "cell_type": "code",
   "execution_count": 2,
   "metadata": {},
   "outputs": [],
   "source": [
    "import numpy as np\n",
    "import cv2 as cv\n",
    "import os.path"
   ]
  },
  {
   "cell_type": "code",
   "execution_count": 5,
   "metadata": {},
   "outputs": [],
   "source": [
    "frame = cv.imread(\"C:\\\\Users\\\\s\\\\OneDrive\\\\Pictures\\\\girl-2529907_640.jpg\")\n",
    "prototxt_path = r\"C:\\Users\\s\\Downloads\\colorization_deploy_v2.prototxt\"\n",
    "caffe_model_path = r\"C:\\Users\\s\\Downloads\\colorization_release_v2.caffemodel\"\n",
    "pts_npy_path = r\"C:\\Users\\s\\Downloads\\pts_in_hull.npy\"\n",
    "\n",
    "# Load the files\n",
    "numpy_file = np.load(pts_npy_path)\n",
    "Caffe_net = cv.dnn.readNetFromCaffe(prototxt_path, caffe_model_path)\n"
   ]
  },
  {
   "cell_type": "code",
   "execution_count": 6,
   "metadata": {},
   "outputs": [],
   "source": [
    "numpy_file = numpy_file.transpose().reshape(2, 313, 1, 1)\n",
    "Caffe_net.getLayer(Caffe_net.getLayerId('class8_ab')).blobs = [numpy_file.astype(np.float32)]\n",
    "Caffe_net.getLayer(Caffe_net.getLayerId('conv8_313_rh')).blobs = [np.full([1, 313], 2.606, np.float32)]"
   ]
  },
  {
   "cell_type": "code",
   "execution_count": 7,
   "metadata": {},
   "outputs": [],
   "source": [
    "input_width = 224\n",
    "input_height = 224\n",
    "\n",
    "rgb_img = (frame[:,:,[2, 1, 0]] * 1.0 / 255).astype(np.float32)\n",
    "lab_img = cv.cvtColor(rgb_img, cv.COLOR_RGB2Lab)\n",
    "l_channel = lab_img[:,:,0] \n",
    "\n",
    "l_channel_resize = cv.resize(l_channel, (input_width, input_height)) \n",
    "l_channel_resize -= 50"
   ]
  },
  {
   "cell_type": "code",
   "execution_count": 8,
   "metadata": {},
   "outputs": [
    {
     "data": {
      "text/plain": [
       "True"
      ]
     },
     "execution_count": 8,
     "metadata": {},
     "output_type": "execute_result"
    }
   ],
   "source": [
    "Caffe_net.setInput(cv.dnn.blobFromImage(l_channel_resize))\n",
    "ab_channel = Caffe_net.forward()[0,:,:,:].transpose((1,2,0)) \n",
    "\n",
    "(original_height,original_width) = rgb_img.shape[:2] \n",
    "ab_channel_us = cv.resize(ab_channel, (original_width, original_height))\n",
    "lab_output = np.concatenate((l_channel[:,:,np.newaxis],ab_channel_us),axis=2) \n",
    "bgr_output = np.clip(cv.cvtColor(lab_output, cv.COLOR_Lab2BGR), 0, 1)\n",
    "\n",
    "cv.imwrite(r\"D:\\c++\\python image project\\mkdir models\\result.png\", (bgr_output*255).astype(np.uint8))\n"
   ]
  }
 ],
 "metadata": {
  "kernelspec": {
   "display_name": "Python 3",
   "language": "python",
   "name": "python3"
  },
  "language_info": {
   "codemirror_mode": {
    "name": "ipython",
    "version": 3
   },
   "file_extension": ".py",
   "mimetype": "text/x-python",
   "name": "python",
   "nbconvert_exporter": "python",
   "pygments_lexer": "ipython3",
   "version": "3.11.1"
  },
  "orig_nbformat": 4
 },
 "nbformat": 4,
 "nbformat_minor": 2
}
